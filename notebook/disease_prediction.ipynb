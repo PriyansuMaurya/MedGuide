{
 "cells": [
  {
   "cell_type": "code",
   "execution_count": 5,
   "metadata": {},
   "outputs": [],
   "source": [
    "##### Install required libraries (optional)\n",
    "\n",
    "# Import necessary libraries\n",
    "\n",
    "import pandas as pd\n",
    "import numpy as np\n",
    "\n",
    "# Load the dataset\n",
    "df = pd.read_csv('./data/Disease_symptom_and_patient_profile_dataset.csv')\n",
    "\n",
    "# df.shape\n",
    "array = df['Disease'].to_numpy()\n",
    "category = np.unique(array)\n"
   ]
  },
  {
   "cell_type": "code",
   "execution_count": 6,
   "metadata": {},
   "outputs": [
    {
     "data": {
      "text/plain": [
       "<bound method DataFrame.sum of      Disease  Fever  Cough  Fatigue  Difficulty Breathing    Age  Gender  \\\n",
       "0      False  False  False    False                 False  False   False   \n",
       "1      False  False  False    False                 False  False   False   \n",
       "2      False  False  False    False                 False  False   False   \n",
       "3      False  False  False    False                 False  False   False   \n",
       "4      False  False  False    False                 False  False   False   \n",
       "..       ...    ...    ...      ...                   ...    ...     ...   \n",
       "344    False  False  False    False                 False  False   False   \n",
       "345    False  False  False    False                 False  False   False   \n",
       "346    False  False  False    False                 False  False   False   \n",
       "347    False  False  False    False                 False  False   False   \n",
       "348    False  False  False    False                 False  False   False   \n",
       "\n",
       "     Blood Pressure  Cholesterol Level  Outcome Variable  \n",
       "0             False              False             False  \n",
       "1             False              False             False  \n",
       "2             False              False             False  \n",
       "3             False              False             False  \n",
       "4             False              False             False  \n",
       "..              ...                ...               ...  \n",
       "344           False              False             False  \n",
       "345           False              False             False  \n",
       "346           False              False             False  \n",
       "347           False              False             False  \n",
       "348           False              False             False  \n",
       "\n",
       "[349 rows x 10 columns]>"
      ]
     },
     "execution_count": 6,
     "metadata": {},
     "output_type": "execute_result"
    }
   ],
   "source": [
    "# Check for missing values\n",
    "df.isna().sum"
   ]
  },
  {
   "cell_type": "code",
   "execution_count": 7,
   "metadata": {},
   "outputs": [
    {
     "name": "stdout",
     "output_type": "stream",
     "text": [
      "         Disease Fever Cough Fatigue Difficulty Breathing  Age  Gender  \\\n",
      "0      Influenza   Yes    No     Yes                  Yes   19  Female   \n",
      "1    Common Cold    No   Yes     Yes                   No   25  Female   \n",
      "2         Eczema    No   Yes     Yes                   No   25  Female   \n",
      "3         Asthma   Yes   Yes      No                  Yes   25    Male   \n",
      "4         Asthma   Yes   Yes      No                  Yes   25    Male   \n",
      "..           ...   ...   ...     ...                  ...  ...     ...   \n",
      "344       Stroke   Yes    No     Yes                   No   80  Female   \n",
      "345       Stroke   Yes    No     Yes                   No   85    Male   \n",
      "346       Stroke   Yes    No     Yes                   No   85    Male   \n",
      "347       Stroke   Yes    No     Yes                   No   90  Female   \n",
      "348       Stroke   Yes    No     Yes                   No   90  Female   \n",
      "\n",
      "    Blood Pressure Cholesterol Level Outcome Variable  \n",
      "0              Low            Normal         Positive  \n",
      "1           Normal            Normal         Negative  \n",
      "2           Normal            Normal         Negative  \n",
      "3           Normal            Normal         Positive  \n",
      "4           Normal            Normal         Positive  \n",
      "..             ...               ...              ...  \n",
      "344           High              High         Positive  \n",
      "345           High              High         Positive  \n",
      "346           High              High         Positive  \n",
      "347           High              High         Positive  \n",
      "348           High              High         Positive  \n",
      "\n",
      "[349 rows x 10 columns]\n"
     ]
    }
   ],
   "source": [
    "# Check for duplicated rows\n",
    "df.duplicated().sum()\n",
    "print(df)\n",
    "\n",
    "# Drop duplicate rows\n",
    "df = df.drop_duplicates()\n",
    "# print(df)\n"
   ]
  },
  {
   "cell_type": "code",
   "execution_count": 8,
   "metadata": {},
   "outputs": [
    {
     "name": "stdout",
     "output_type": "stream",
     "text": [
      "Ingestion of the data is completed\n"
     ]
    }
   ],
   "source": [
    "\n",
    "from sklearn.model_selection import train_test_split\n",
    "\n",
    "# Split the dataset into training and testing sets\n",
    "train_data, test_data = train_test_split(df, test_size = 0.26, random_state = 42)\n",
    "\n",
    "# Save the training and testing sets to CSV files\n",
    "train_data.to_csv('../artifacts/train.csv', index = False, header = True)\n",
    "test_data.to_csv('../artifacts/test.csv', index = False, header = True)\n",
    "\n",
    "# print(train_data)\n",
    "print(\"Ingestion of the data is completed\")\n",
    "\n"
   ]
  },
  {
   "cell_type": "code",
   "execution_count": 9,
   "metadata": {},
   "outputs": [],
   "source": [
    "#Data trasformation\n",
    "\n",
    "from sklearn.compose import ColumnTransformer\n",
    "from sklearn.impute import SimpleImputer\n",
    "from sklearn.pipeline import Pipeline\n",
    "from sklearn.preprocessing import OneHotEncoder,StandardScaler\n",
    "\n",
    "numerical_columns = [\"Age\"]\n",
    "\n",
    "categorical_columns = [\n",
    "                \"Fever\",\n",
    "                \"Cough\",\n",
    "                \"Fatigue\",\n",
    "                \"Difficulty Breathing\",\n",
    "                \"Gender\",\n",
    "                \"Blood Pressure\",\n",
    "                \"Cholesterol Level\",\n",
    "                \"Outcome Variable\",\n",
    "            ]\n"
   ]
  },
  {
   "cell_type": "code",
   "execution_count": 10,
   "metadata": {},
   "outputs": [],
   "source": [
    "# Define pipelines for numerical and categorical data preprocessing\n",
    "\n",
    "num_pipeline = Pipeline(\n",
    "                steps=[\n",
    "                    (\"imputer\", SimpleImputer(strategy=\"median\")),\n",
    "                    (\"scalar\", StandardScaler(with_mean=False))\n",
    "                ]\n",
    "            )\n",
    "\n",
    "cat_pipeline = Pipeline(\n",
    "                steps=[\n",
    "                    (\"imputer\", SimpleImputer(strategy=\"most_frequent\")),\n",
    "                    (\"one_hot_encoder\", OneHotEncoder()),\n",
    "                    (\"scaler\", StandardScaler(with_mean=False))\n",
    "\n",
    "                ]\n",
    "            )\n",
    "\n",
    "# Create a preprocessor that applies transformations to numerical and categorical columns\n",
    "\n",
    "preprocessor = ColumnTransformer(\n",
    "                [\n",
    "                    (\"num_pipeline\", num_pipeline, numerical_columns),\n",
    "                    (\"cat_pipeline\", cat_pipeline, categorical_columns)\n",
    "                ]\n",
    "            )\n"
   ]
  },
  {
   "cell_type": "code",
   "execution_count": 11,
   "metadata": {},
   "outputs": [
    {
     "data": {
      "text/plain": [
       "array(['Disease_Acne', 'Disease_Allergic Rhinitis',\n",
       "       \"Disease_Alzheimer's Disease\", 'Disease_Anemia',\n",
       "       'Disease_Anxiety Disorders', 'Disease_Appendicitis',\n",
       "       'Disease_Asthma', 'Disease_Atherosclerosis',\n",
       "       'Disease_Autism Spectrum Disorder (ASD)',\n",
       "       'Disease_Bipolar Disorder', 'Disease_Bladder Cancer',\n",
       "       'Disease_Brain Tumor', 'Disease_Breast Cancer',\n",
       "       'Disease_Bronchitis', 'Disease_Cataracts',\n",
       "       'Disease_Cerebral Palsy', 'Disease_Chickenpox',\n",
       "       'Disease_Cholecystitis', 'Disease_Cholera',\n",
       "       'Disease_Chronic Obstructive Pulmonary Disease (COPD)',\n",
       "       'Disease_Chronic Obstructive Pulmonary...', 'Disease_Cirrhosis',\n",
       "       'Disease_Colorectal Cancer', 'Disease_Common Cold',\n",
       "       'Disease_Conjunctivitis (Pink Eye)',\n",
       "       'Disease_Coronary Artery Disease', \"Disease_Crohn's Disease\",\n",
       "       'Disease_Cystic Fibrosis', 'Disease_Dementia',\n",
       "       'Disease_Dengue Fever', 'Disease_Depression', 'Disease_Diabetes',\n",
       "       'Disease_Diverticulitis', 'Disease_Down Syndrome',\n",
       "       'Disease_Eating Disorders (Anorexia,...', 'Disease_Ebola Virus',\n",
       "       'Disease_Eczema', 'Disease_Endometriosis', 'Disease_Fibromyalgia',\n",
       "       'Disease_Gastroenteritis', 'Disease_Glaucoma', 'Disease_Gout',\n",
       "       'Disease_HIV/AIDS', 'Disease_Hemophilia', 'Disease_Hemorrhoids',\n",
       "       'Disease_Hepatitis', 'Disease_Hepatitis B',\n",
       "       'Disease_Hyperglycemia', 'Disease_Hypertension',\n",
       "       'Disease_Hypertensive Heart Disease', 'Disease_Hyperthyroidism',\n",
       "       'Disease_Hypothyroidism', 'Disease_Influenza',\n",
       "       'Disease_Kidney Cancer', 'Disease_Kidney Disease',\n",
       "       'Disease_Klinefelter Syndrome', 'Disease_Liver Cancer',\n",
       "       'Disease_Liver Disease', 'Disease_Lung Cancer',\n",
       "       'Disease_Lyme Disease', 'Disease_Lymphoma',\n",
       "       'Disease_Marfan Syndrome', 'Disease_Measles', 'Disease_Melanoma',\n",
       "       'Disease_Migraine', 'Disease_Multiple Sclerosis',\n",
       "       'Disease_Muscular Dystrophy', 'Disease_Osteoarthritis',\n",
       "       'Disease_Osteomyelitis', 'Disease_Osteoporosis',\n",
       "       'Disease_Otitis Media (Ear Infection)', 'Disease_Ovarian Cancer',\n",
       "       'Disease_Pancreatic Cancer', 'Disease_Pancreatitis',\n",
       "       \"Disease_Parkinson's Disease\", 'Disease_Pneumonia',\n",
       "       'Disease_Pneumothorax', 'Disease_Polio',\n",
       "       'Disease_Polycystic Ovary Syndrome (PCOS)',\n",
       "       'Disease_Prader-Willi Syndrome', 'Disease_Psoriasis',\n",
       "       'Disease_Rabies', 'Disease_Rheumatoid Arthritis',\n",
       "       'Disease_Rubella', 'Disease_Schizophrenia', 'Disease_Sepsis',\n",
       "       'Disease_Sickle Cell Anemia', 'Disease_Sinusitis',\n",
       "       'Disease_Spina Bifida', 'Disease_Stroke',\n",
       "       'Disease_Systemic Lupus Erythematosus...',\n",
       "       'Disease_Testicular Cancer', 'Disease_Tetanus',\n",
       "       'Disease_Thyroid Cancer', 'Disease_Tourette Syndrome',\n",
       "       'Disease_Tuberculosis', 'Disease_Turner Syndrome',\n",
       "       'Disease_Ulcerative Colitis', 'Disease_Urinary Tract Infection',\n",
       "       'Disease_Urinary Tract Infection (UTI)',\n",
       "       'Disease_Williams Syndrome'], dtype='<U52')"
      ]
     },
     "execution_count": 11,
     "metadata": {},
     "output_type": "execute_result"
    }
   ],
   "source": [
    "# Load the training and testing datasets\n",
    "\n",
    "train_df = pd.read_csv('../artifacts/train.csv')\n",
    "test_df = pd.read_csv('../artifacts/test.csv')\n",
    "\n",
    "# Define the target column and numerical columns\n",
    "target_column_name = \"Disease\"\n",
    "numerical_columns = [\"Age\"]\n",
    "\n",
    "# Separate input and target features for training and testing datasets\n",
    "input_feature_train_df = train_df.drop(columns=[target_column_name], axis=1)\n",
    "target_feature_train_df = train_df[[target_column_name]]\n",
    "\n",
    "input_feature_test_df = test_df.drop(columns=[target_column_name], axis=1)\n",
    "target_feature_test_df = test_df[[target_column_name]]\n",
    "\n",
    "# Apply one-hot encoding to the target feature\n",
    "one = OneHotEncoder(handle_unknown='ignore', sparse_output=False).set_output(transform='pandas')\n",
    "\n",
    "output_feature_train_df = one.fit_transform(target_feature_train_df)\n",
    "output_feature_test_df = one.transform(target_feature_test_df)\n",
    "\n",
    "# Decoding the disease column\n",
    "diseases = np.array([column for column in  output_feature_train_df.columns])\n",
    "diseases\n"
   ]
  },
  {
   "cell_type": "code",
   "execution_count": 12,
   "metadata": {},
   "outputs": [
    {
     "name": "stdout",
     "output_type": "stream",
     "text": [
      "[[2.76195032 0.         2.00816597 ... 2.00816597 0.         2.00129986]\n",
      " [5.52390063 2.00816597 0.         ... 2.00816597 2.00129986 0.        ]\n",
      " [3.55107898 0.         2.00816597 ... 0.         0.         2.00129986]\n",
      " ...\n",
      " [3.15651465 2.00816597 0.         ... 2.00816597 2.00129986 0.        ]\n",
      " [5.1293363  0.         2.00816597 ... 2.00816597 2.00129986 0.        ]\n",
      " [3.15651465 2.00816597 0.         ... 2.00816597 2.00129986 0.        ]]\n"
     ]
    }
   ],
   "source": [
    "# Apply preprocessing to input features\n",
    "input_feature_train_arr = preprocessor.fit_transform(input_feature_train_df)\n",
    "input_feature_test_arr = preprocessor.transform(input_feature_test_df)\n",
    "\n",
    "print(input_feature_train_arr)"
   ]
  },
  {
   "cell_type": "code",
   "execution_count": 13,
   "metadata": {},
   "outputs": [],
   "source": [
    "# Save the preprocessor object to a file\n",
    "import dill\n",
    "\n",
    "with open('../artifacts/preprocessor.pkl', \"wb\") as file_obj:\n",
    "        dill.dump(preprocessor, file_obj)\n"
   ]
  },
  {
   "cell_type": "code",
   "execution_count": 15,
   "metadata": {},
   "outputs": [
    {
     "name": "stdout",
     "output_type": "stream",
     "text": [
      "Saved preprocesssing object.\n"
     ]
    }
   ],
   "source": [
    "# Prepare training and testing data\n",
    "X_train,y_train,X_test,y_test = (\n",
    "    input_feature_train_arr,\n",
    "    np.array(output_feature_train_df),\n",
    "    input_feature_test_arr,\n",
    "    np.array(output_feature_test_df)\n",
    ")\n",
    "\n",
    "# print(train_arr[1])\n",
    "print(\"Saved preprocesssing object.\")\n",
    "# print(X_train.shape ,y_train.shape ,X_test.shape ,y_test.shape)\n",
    "# print(type(test_arr))\n",
    "# ValueError: X has 19 features, but LinearRegression is expecting 37 features as input."
   ]
  },
  {
   "cell_type": "code",
   "execution_count": 16,
   "metadata": {},
   "outputs": [],
   "source": [
    "# Evaluate the performance of regression models by iterating through all the models\n",
    "\n",
    "def evaluate_models(X_train, y_train, X_test, y_test, models):\n",
    "    report = {}\n",
    "\n",
    "    for i in range(len(list(models))):\n",
    "        model = list(models.values())[i]\n",
    "\n",
    "        model.fit(X_train,y_train)\n",
    "\n",
    "        y_train_pred = model.predict(X_train)\n",
    "\n",
    "        y_test_pred = model.predict(X_test)\n",
    "\n",
    "        train_model_score = r2_score(y_train, y_train_pred)\n",
    "\n",
    "        test_model_score = r2_score(y_test, y_test_pred)\n",
    "\n",
    "        report[list(models.keys())[i]] = test_model_score\n",
    "\n",
    "    return report"
   ]
  },
  {
   "cell_type": "code",
   "execution_count": 17,
   "metadata": {},
   "outputs": [],
   "source": [
    "\n",
    "from sklearn.model_selection import GridSearchCV\n",
    "from catboost import CatBoostRegressor\n",
    "from sklearn.ensemble import (\n",
    "    AdaBoostRegressor,\n",
    "    GradientBoostingRegressor,\n",
    "    RandomForestRegressor\n",
    ")\n",
    "from sklearn.linear_model import LinearRegression\n",
    "from sklearn.metrics import r2_score\n",
    "from sklearn.neighbors import KNeighborsRegressor\n",
    "from sklearn.tree import DecisionTreeRegressor\n",
    "from xgboost import XGBRegressor\n",
    "from sklearn.svm import SVC\n",
    "\n",
    "# Define a dictionary of regression models to evaluate\n",
    "\n",
    "models = {\n",
    "        \"Random Forest\" : RandomForestRegressor(),\n",
    "        \"Decision Tree\" : DecisionTreeRegressor(),\n",
    "        \"Linear Regression\" : LinearRegression(),\n",
    "        \"K-Neighbors Regressor\" : KNeighborsRegressor(),\n",
    "        \"XGBRegressor\" : XGBRegressor(),\n",
    "        # \"Gradient Boosting\" : GradientBoostingRegressor(),\n",
    "        # \"CatBoosting Regressor\" : CatBoostRegressor(verbose = False),\n",
    "        # \"AdaBoost Regressor\" : AdaBoostRegressor()\n",
    "        # \"SVM\" : SVC(kernel=\"rbf\", gamma=0.5, C=1.0)\n",
    "}\n",
    "\n",
    " \n",
    "model_report:dict = evaluate_models(\n",
    "    X_train = X_train,\n",
    "    y_train = y_train,\n",
    "    X_test = X_test,\n",
    "    y_test = y_test,\n",
    "    models = models\n",
    ")\n",
    "# ValueError: y should be a 1d array, got an array of shape (222, 101) instead.\n",
    "# print(X_train)"
   ]
  },
  {
   "cell_type": "code",
   "execution_count": 18,
   "metadata": {},
   "outputs": [
    {
     "name": "stdout",
     "output_type": "stream",
     "text": [
      "No best model found\n",
      "Best found model on both training and testing dataset\n"
     ]
    }
   ],
   "source": [
    "# Find the best performing model\n",
    "best_model_score = max(sorted(model_report.values()))\n",
    "best_model_name = list(model_report.keys())[\n",
    "    list(model_report.values()).index(best_model_score)\n",
    "]\n",
    "\n",
    "best_model = models[best_model_name]\n",
    "\n",
    "if best_model_score < 0.6:\n",
    "    print(\"No best model found\")\n",
    "\n",
    "print(\"Best found model on both training and testing dataset\")\n"
   ]
  },
  {
   "cell_type": "code",
   "execution_count": 19,
   "metadata": {},
   "outputs": [],
   "source": [
    "# Save the best model to a file\n",
    "import dill\n",
    "\n",
    "with open('../artifacts/best_model.pkl', \"wb\") as file_obj:\n",
    "        dill.dump(best_model, file_obj)"
   ]
  },
  {
   "cell_type": "code",
   "execution_count": 20,
   "metadata": {},
   "outputs": [
    {
     "name": "stdout",
     "output_type": "stream",
     "text": [
      "Decision Tree\n",
      "0.17501976889418258\n"
     ]
    }
   ],
   "source": [
    "# Make predictions using the best model\n",
    "predicted = best_model.predict(X_test)\n",
    "\n",
    "# Calculate the R-squared score for the best model\n",
    "r2_sco = r2_score(y_test, predicted)\n",
    "print(best_model_name)\n",
    "print(r2_sco)"
   ]
  },
  {
   "cell_type": "code",
   "execution_count": 21,
   "metadata": {},
   "outputs": [
    {
     "name": "stdout",
     "output_type": "stream",
     "text": [
      "[0. 0. 0. 0. 0. 0. 0. 0. 0. 0. 0. 0. 0. 0. 0. 0. 0. 0. 0. 0. 0. 0. 0. 0.\n",
      " 0. 0. 0. 0. 0. 1. 0. 0. 0. 0. 0. 0. 0. 0. 0. 0. 0. 0. 0. 0. 0. 0. 0. 0.\n",
      " 0. 0. 0. 0. 0. 0. 0. 0. 0. 0. 0. 0. 0. 0. 0. 0. 0. 0. 0. 0. 0. 0. 0. 0.\n",
      " 0. 0. 0. 0. 0. 0. 0. 0. 0. 0. 0. 0. 0. 0. 0. 0. 0. 0. 0. 0. 0. 0. 0. 0.\n",
      " 0. 0. 0. 0. 0.]\n"
     ]
    },
    {
     "data": {
      "text/plain": [
       "'Disease_Dengue Fever'"
      ]
     },
     "execution_count": 21,
     "metadata": {},
     "output_type": "execute_result"
    }
   ],
   "source": [
    "# Load the preprocessor and best model for prediction\n",
    "model = dill.load(open('../artifacts/preprocessor.pkl', 'rb'))\n",
    "final_model = dill.load(open('../artifacts/best_model.pkl', 'rb'))\n",
    "\n",
    "# Define input values for prediction\n",
    "\n",
    "input_values = {\n",
    "    \"Fever\" : ['Yes'],\n",
    "    \"Cough\" : ['No'],\n",
    "    \"Fatigue\" : ['Yes'],\n",
    "    \"Difficulty Breathing\" : ['No'],\n",
    "    \"Age\" : [30],\n",
    "    \"Gender\" : ['Female'],\n",
    "    \"Blood Pressure\" : ['Normal'],\n",
    "    \"Cholesterol Level\" : ['Normal'],\n",
    "    \"Outcome Variable\" : ['Negative'] \n",
    "}\n",
    "\n",
    "input_df = pd.DataFrame(input_values)\n",
    "\n",
    "# Transform the input data\n",
    "data_scaled = model.transform(input_df)\n",
    "\n",
    "# Evaluate the performance of the model\n",
    "# print(data_scaled)\n",
    "\n",
    "# Make predictions\n",
    "pred = final_model.predict(data_scaled)\n",
    "print(pred[0])\n",
    "\n",
    "index = np.where(pred[0] == 1)[0][0]\n",
    "diseases[index]"
   ]
  }
 ],
 "metadata": {
  "kernelspec": {
   "display_name": "Python 3",
   "language": "python",
   "name": "python3"
  },
  "language_info": {
   "codemirror_mode": {
    "name": "ipython",
    "version": 3
   },
   "file_extension": ".py",
   "mimetype": "text/x-python",
   "name": "python",
   "nbconvert_exporter": "python",
   "pygments_lexer": "ipython3",
   "version": "3.11.6"
  }
 },
 "nbformat": 4,
 "nbformat_minor": 2
}
