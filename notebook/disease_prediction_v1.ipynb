{
 "cells": [
  {
   "cell_type": "code",
   "execution_count": null,
   "metadata": {},
   "outputs": [],
   "source": [
    "# Check for missing values\n",
    "df.isna().sum()"
   ]
  },
  {
   "cell_type": "code",
   "execution_count": null,
   "metadata": {},
   "outputs": [],
   "source": [
    "# Check for duplicated rows\n",
    "df.duplicated().sum()\n",
    "\n",
    "# Drop duplicate rows\n",
    "df = df.drop_duplicates()\n",
    "df"
   ]
  },
  {
   "cell_type": "code",
   "execution_count": null,
   "metadata": {},
   "outputs": [],
   "source": [
    "# Define pipelines for numerical and categorical data preprocessing\n",
    "\n",
    "num_pipeline = Pipeline(\n",
    "                steps=[\n",
    "                    (\"imputer\", SimpleImputer(strategy=\"median\")),\n",
    "                    (\"scalar\", StandardScaler(with_mean=False))\n",
    "                ]\n",
    "            )\n",
    "\n",
    "# Create a preprocessor that applies transformations to numerical and categorical columns\n",
    "\n",
    "preprocessor = ColumnTransformer(\n",
    "                transformers=[\n",
    "                    ('num_pipeline', num_pipeline, numerical_columns),\n",
    "                ]\n",
    "            )\n"
   ]
  },
  {
   "cell_type": "code",
   "execution_count": null,
   "metadata": {},
   "outputs": [],
   "source": [
    "# Load the training and testing datasets\n",
    "\n",
    "train_df = pd.read_csv('../artifacts/train.csv')\n",
    "test_df = pd.read_csv('../artifacts/test.csv')\n",
    "\n",
    "# Define the target column and numerical columns\n",
    "target_column_name = 'prognosis'\n",
    "\n",
    "# Separate input and target features for training and testing datasets\n",
    "input_feature_train_df = train_df.drop(columns=[target_column_name], axis=1)\n",
    "target_feature_train_df = train_df[[target_column_name]]\n",
    "\n",
    "input_feature_test_df = test_df.drop(columns=[target_column_name], axis=1)\n",
    "target_feature_test_df = test_df[[target_column_name]]\n",
    "\n",
    "# input_feature_train_df\n",
    "# Apply one-hot encoding to the target feature\n",
    "one = OneHotEncoder(handle_unknown='ignore', sparse_output=False).set_output(transform='pandas')\n",
    "\n",
    "output_feature_train_df = one.fit_transform(target_feature_train_df)\n",
    "output_feature_test_df = one.transform(target_feature_test_df)\n",
    "\n",
    "# Decoding the disease column\n",
    "diseases = np.array([column for column in  output_feature_train_df.columns])\n",
    "diseases\n"
   ]
  },
  {
   "cell_type": "code",
   "execution_count": null,
   "metadata": {},
   "outputs": [],
   "source": [
    "# Save the preprocessor object to a file\n",
    "import dill\n",
    "\n",
    "with open('../artifacts/preprocessor_v1.pkl', \"wb\") as file_obj:\n",
    "        dill.dump(preprocessor, file_obj)\n"
   ]
  },
  {
   "cell_type": "code",
   "execution_count": null,
   "metadata": {},
   "outputs": [],
   "source": [
    "# Prepare training and testing data\n",
    "X_train,y_train,X_test,y_test = (\n",
    "    input_feature_train_arr,\n",
    "    np.array(output_feature_train_df),\n",
    "    input_feature_test_arr,\n",
    "    np.array(output_feature_test_df)\n",
    ")\n",
    "\n",
    "print(\"Saved preprocesssing object.\")"
   ]
  },
  {
   "cell_type": "code",
   "execution_count": null,
   "metadata": {},
   "outputs": [],
   "source": [
    "\n",
    "from sklearn.model_selection import GridSearchCV\n",
    "from catboost import CatBoostRegressor\n",
    "from sklearn.ensemble import (\n",
    "    AdaBoostRegressor,\n",
    "    GradientBoostingRegressor,\n",
    "    RandomForestRegressor\n",
    ")\n",
    "from sklearn.linear_model import LinearRegression\n",
    "from sklearn.metrics import r2_score\n",
    "from sklearn.neighbors import KNeighborsRegressor\n",
    "from sklearn.tree import DecisionTreeRegressor\n",
    "from xgboost import XGBRegressor\n",
    "from sklearn.svm import SVC\n",
    "\n",
    "# Define a dictionary of regression models to evaluate\n",
    "\n",
    "models = {\n",
    "        \"Random Forest\" : RandomForestRegressor(),\n",
    "        \"Decision Tree\" : DecisionTreeRegressor(),\n",
    "        \"Linear Regression\" : LinearRegression(),\n",
    "        \"K-Neighbors Regressor\" : KNeighborsRegressor(),\n",
    "        \"XGBRegressor\" : XGBRegressor(),\n",
    "        # \"Gradient Boosting\" : GradientBoostingRegressor(),\n",
    "        # \"CatBoosting Regressor\" : CatBoostRegressor(verbose = False),\n",
    "        # \"AdaBoost Regressor\" : AdaBoostRegressor()\n",
    "        # \"SVM\" : SVC(kernel=\"rbf\", gamma=0.5, C=1.0)\n",
    "}\n",
    "\n",
    " \n",
    "model_report:dict = evaluate_models(\n",
    "    X_train = X_train,\n",
    "    y_train = y_train,\n",
    "    X_test = X_test,\n",
    "    y_test = y_test,\n",
    "    models = models\n",
    ")"
   ]
  },
  {
   "cell_type": "code",
   "execution_count": null,
   "metadata": {},
   "outputs": [],
   "source": [
    "# Find the best performing model\n",
    "best_model_score = max(sorted(model_report.values()))\n",
    "best_model_name = list(model_report.keys())[\n",
    "    list(model_report.values()).index(best_model_score)\n",
    "]\n",
    "\n",
    "best_model = models[best_model_name]\n",
    "\n",
    "if best_model_score < 0.6:\n",
    "    print(\"No best model found\")\n",
    "\n",
    "print(\"Best found model on both training and testing dataset\")\n"
   ]
  },
  {
   "cell_type": "code",
   "execution_count": null,
   "metadata": {},
   "outputs": [],
   "source": [
    "# Make predictions using the best model\n",
    "predicted = best_model.predict(X_test)\n",
    "\n",
    "# Calculate the R-squared score for the best model\n",
    "r2_sco = r2_score(y_test, predicted)\n",
    "print(best_model_name)\n",
    "print(r2_sco)"
   ]
  },
  {
   "cell_type": "code",
   "execution_count": null,
   "metadata": {},
   "outputs": [],
   "source": []
  }
 ],
 "metadata": {
  "kernelspec": {
   "display_name": "Python 3",
   "language": "python",
   "name": "python3"
  },
  "language_info": {
   "codemirror_mode": {
    "name": "ipython",
    "version": 3
   },
   "file_extension": ".py",
   "mimetype": "text/x-python",
   "name": "python",
   "nbconvert_exporter": "python",
   "pygments_lexer": "ipython3",
   "version": "3.11.6"
  }
 },
 "nbformat": 4,
 "nbformat_minor": 2
}
